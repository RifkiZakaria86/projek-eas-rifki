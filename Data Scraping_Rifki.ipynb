{
 "cells": [
  {
   "cell_type": "code",
   "execution_count": 45,
   "id": "dffc9876",
   "metadata": {},
   "outputs": [],
   "source": [
    "import requests\n",
    "import pandas as pd\n",
    "from bs4 import BeautifulSoup\n",
    "from selenium import webdriver\n",
    "import chromedriver_autoinstaller"
   ]
  },
  {
   "cell_type": "code",
   "execution_count": 106,
   "id": "091666d9",
   "metadata": {},
   "outputs": [],
   "source": [
    "page = requests.get('https://www.indotrading.com/surabaya/jual-tas-kulit')"
   ]
  },
  {
   "cell_type": "code",
   "execution_count": 107,
   "id": "4b615250",
   "metadata": {},
   "outputs": [],
   "source": [
    "soup = BeautifulSoup(page.content, 'html.parser')"
   ]
  },
  {
   "cell_type": "code",
   "execution_count": 79,
   "id": "e7f3e18b",
   "metadata": {},
   "outputs": [],
   "source": [
    "chromedriver_autoinstaller.install()\n",
    "browser = webdriver.Chrome()"
   ]
  },
  {
   "cell_type": "code",
   "execution_count": 108,
   "id": "ace44f06",
   "metadata": {},
   "outputs": [],
   "source": [
    "browser.get('https://www.indotrading.com/surabaya/jual-tas-kulit')"
   ]
  },
  {
   "cell_type": "code",
   "execution_count": 109,
   "id": "342161b6",
   "metadata": {},
   "outputs": [],
   "source": [
    "soup = BeautifulSoup(browser.page_source, 'lxml')"
   ]
  },
  {
   "cell_type": "code",
   "execution_count": 114,
   "id": "279ad88f",
   "metadata": {},
   "outputs": [
    {
     "data": {
      "text/plain": [
       "'TAS DOKUMEN PORTOFOLIO KODE AG-70'"
      ]
     },
     "execution_count": 114,
     "metadata": {},
     "output_type": "execute_result"
    }
   ],
   "source": [
    "# ambil 1\n",
    "soup.find('div', class_='two-lines-elipsis').text.strip()"
   ]
  },
  {
   "cell_type": "code",
   "execution_count": 117,
   "id": "8a0d5c4e",
   "metadata": {},
   "outputs": [],
   "source": [
    "# looping ambil semua data\n",
    "nama_tas = soup.find_all('div', class_='two-lines-elipsis')\n",
    "daftar_nama = []\n",
    "for tiap_nama_tas in nama_tas:\n",
    "    daftar_nama.append(tiap_nama_tas.text.strip())"
   ]
  },
  {
   "cell_type": "code",
   "execution_count": 118,
   "id": "6887bc3f",
   "metadata": {},
   "outputs": [
    {
     "data": {
      "text/plain": [
       "['TAS DOKUMEN PORTOFOLIO KODE AG-70',\n",
       " 'Tas Tangan & Clutch Wanita Kulit Import Asli Warna Pink (Merah Muda)',\n",
       " 'Tas Santai Biru Tua',\n",
       " 'Tas Ransel Wanita Kulit Import Asli Warna White (Putih)',\n",
       " 'tas kulit istimewa dengan emboss',\n",
       " 'TAS SELEMPANG KULIT LEVI KULIT KK-31',\n",
       " 'Tas Ransel Wanita Kulit Import Asli Warna Blue (Biru Tua)',\n",
       " 'Tas Selempang Kulit Pria MK-01 Two Tone Hitam Mix Alloy Orange 8inc',\n",
       " 'Tas Ransel Wanita Kulit Import Asli Warna Black (Hitam)',\n",
       " 'TAS KERJA KULIT SLIMFIT KK-278',\n",
       " 'Tas Ransel Wanita Kulit Import Asli Warna Red (Merah Tua)',\n",
       " 'Tas Selempang  Arya Sling Bag Leather-Black',\n",
       " 'Tas Tangan & Clutch Wanita Kulit Import Asli Warna Red (Merah)',\n",
       " 'Tas Dokumen Kulit Imitasi Tas Kerja Kulit Kode MK-02',\n",
       " 'Tas Tangan & Clutch Wanita Kulit Import Asli Warna White (Putih)',\n",
       " 'Tas Kerja Kulit Tas Kerja Kantor Kulit Kode MK-03',\n",
       " 'Tas Tangan & Clutch Wanita Kulit Import Asli Warna Black (Hitam)',\n",
       " 'Tas Kulit Kerja Wanita KK-07',\n",
       " 'Tas Ransel Wanita Kulit Import Asli Warna Pink (Merah Muda)',\n",
       " 'Tas Kulit Kerja Metropolis Tas Kerja Kulit Kode MK-02',\n",
       " 'Variasi Aksesoris Tas Perempuan Model Apel Merah Motif Kulit Strawberry',\n",
       " 'Tas Tangan & Clutch Wanita Kulit Import Asli Warna Blue (Biru)',\n",
       " 'Tas Kulit dan Handbags Espro',\n",
       " 'TAS KERJA LAPTOP KULIT KK-40',\n",
       " 'Tas Ransel Wanita Kulit Import Asli Warna Blue (Biru Muda)',\n",
       " 'TAS SELEMPANG KULIT PENERBANG KLASIK KK-15']"
      ]
     },
     "execution_count": 118,
     "metadata": {},
     "output_type": "execute_result"
    }
   ],
   "source": [
    "daftar_nama"
   ]
  },
  {
   "cell_type": "code",
   "execution_count": 135,
   "id": "35a23b06",
   "metadata": {},
   "outputs": [],
   "source": [
    "harga = soup.find_all('div', class_='price')\n",
    "daftar_harga = []\n",
    "for tiap_harga in harga:\n",
    "    daftar_harga.append(tiap_harga.text.strip())"
   ]
  },
  {
   "cell_type": "code",
   "execution_count": 136,
   "id": "69cf9e9e",
   "metadata": {},
   "outputs": [
    {
     "data": {
      "text/plain": [
       "['Rp 463.000',\n",
       " 'Rp 118.000',\n",
       " 'N/A',\n",
       " 'Rp 108.000',\n",
       " 'Rp 260.000',\n",
       " 'Rp 505.000',\n",
       " 'Rp 108.000',\n",
       " 'Rp 635.000',\n",
       " 'Rp 108.000',\n",
       " 'Rp 409.900',\n",
       " 'Rp 108.000',\n",
       " 'Rp 760.000',\n",
       " 'Rp 118.000',\n",
       " 'Rp 123',\n",
       " 'Rp 118.000',\n",
       " 'Rp 123',\n",
       " 'Rp 118.000',\n",
       " 'Rp 960.000',\n",
       " 'Rp 108.000',\n",
       " 'Rp 123',\n",
       " 'N/A',\n",
       " 'Rp 118.000',\n",
       " 'Rp 165.000',\n",
       " 'Rp 760.000',\n",
       " 'Rp 108.000',\n",
       " 'Rp 560.000']"
      ]
     },
     "execution_count": 136,
     "metadata": {},
     "output_type": "execute_result"
    }
   ],
   "source": [
    "daftar_harga"
   ]
  },
  {
   "cell_type": "code",
   "execution_count": 138,
   "id": "1488211b",
   "metadata": {},
   "outputs": [],
   "source": [
    "data = {\n",
    "    'nama_tas' : daftar_nama,\n",
    "    'harga' : daftar_harga\n",
    "}"
   ]
  },
  {
   "cell_type": "code",
   "execution_count": 139,
   "id": "cba072f8",
   "metadata": {},
   "outputs": [],
   "source": [
    "file = pd.DataFrame(data)"
   ]
  },
  {
   "cell_type": "code",
   "execution_count": 140,
   "id": "67dcea92",
   "metadata": {},
   "outputs": [
    {
     "data": {
      "text/html": [
       "<div>\n",
       "<style scoped>\n",
       "    .dataframe tbody tr th:only-of-type {\n",
       "        vertical-align: middle;\n",
       "    }\n",
       "\n",
       "    .dataframe tbody tr th {\n",
       "        vertical-align: top;\n",
       "    }\n",
       "\n",
       "    .dataframe thead th {\n",
       "        text-align: right;\n",
       "    }\n",
       "</style>\n",
       "<table border=\"1\" class=\"dataframe\">\n",
       "  <thead>\n",
       "    <tr style=\"text-align: right;\">\n",
       "      <th></th>\n",
       "      <th>nama_tas</th>\n",
       "      <th>harga</th>\n",
       "    </tr>\n",
       "  </thead>\n",
       "  <tbody>\n",
       "    <tr>\n",
       "      <th>0</th>\n",
       "      <td>TAS DOKUMEN PORTOFOLIO KODE AG-70</td>\n",
       "      <td>Rp 463.000</td>\n",
       "    </tr>\n",
       "    <tr>\n",
       "      <th>1</th>\n",
       "      <td>Tas Tangan &amp; Clutch Wanita Kulit Import Asli W...</td>\n",
       "      <td>Rp 118.000</td>\n",
       "    </tr>\n",
       "    <tr>\n",
       "      <th>2</th>\n",
       "      <td>Tas Santai Biru Tua</td>\n",
       "      <td>N/A</td>\n",
       "    </tr>\n",
       "    <tr>\n",
       "      <th>3</th>\n",
       "      <td>Tas Ransel Wanita Kulit Import Asli Warna Whit...</td>\n",
       "      <td>Rp 108.000</td>\n",
       "    </tr>\n",
       "    <tr>\n",
       "      <th>4</th>\n",
       "      <td>tas kulit istimewa dengan emboss</td>\n",
       "      <td>Rp 260.000</td>\n",
       "    </tr>\n",
       "    <tr>\n",
       "      <th>5</th>\n",
       "      <td>TAS SELEMPANG KULIT LEVI KULIT KK-31</td>\n",
       "      <td>Rp 505.000</td>\n",
       "    </tr>\n",
       "    <tr>\n",
       "      <th>6</th>\n",
       "      <td>Tas Ransel Wanita Kulit Import Asli Warna Blue...</td>\n",
       "      <td>Rp 108.000</td>\n",
       "    </tr>\n",
       "    <tr>\n",
       "      <th>7</th>\n",
       "      <td>Tas Selempang Kulit Pria MK-01 Two Tone Hitam ...</td>\n",
       "      <td>Rp 635.000</td>\n",
       "    </tr>\n",
       "    <tr>\n",
       "      <th>8</th>\n",
       "      <td>Tas Ransel Wanita Kulit Import Asli Warna Blac...</td>\n",
       "      <td>Rp 108.000</td>\n",
       "    </tr>\n",
       "    <tr>\n",
       "      <th>9</th>\n",
       "      <td>TAS KERJA KULIT SLIMFIT KK-278</td>\n",
       "      <td>Rp 409.900</td>\n",
       "    </tr>\n",
       "    <tr>\n",
       "      <th>10</th>\n",
       "      <td>Tas Ransel Wanita Kulit Import Asli Warna Red ...</td>\n",
       "      <td>Rp 108.000</td>\n",
       "    </tr>\n",
       "    <tr>\n",
       "      <th>11</th>\n",
       "      <td>Tas Selempang  Arya Sling Bag Leather-Black</td>\n",
       "      <td>Rp 760.000</td>\n",
       "    </tr>\n",
       "    <tr>\n",
       "      <th>12</th>\n",
       "      <td>Tas Tangan &amp; Clutch Wanita Kulit Import Asli W...</td>\n",
       "      <td>Rp 118.000</td>\n",
       "    </tr>\n",
       "    <tr>\n",
       "      <th>13</th>\n",
       "      <td>Tas Dokumen Kulit Imitasi Tas Kerja Kulit Kode...</td>\n",
       "      <td>Rp 123</td>\n",
       "    </tr>\n",
       "    <tr>\n",
       "      <th>14</th>\n",
       "      <td>Tas Tangan &amp; Clutch Wanita Kulit Import Asli W...</td>\n",
       "      <td>Rp 118.000</td>\n",
       "    </tr>\n",
       "    <tr>\n",
       "      <th>15</th>\n",
       "      <td>Tas Kerja Kulit Tas Kerja Kantor Kulit Kode MK-03</td>\n",
       "      <td>Rp 123</td>\n",
       "    </tr>\n",
       "    <tr>\n",
       "      <th>16</th>\n",
       "      <td>Tas Tangan &amp; Clutch Wanita Kulit Import Asli W...</td>\n",
       "      <td>Rp 118.000</td>\n",
       "    </tr>\n",
       "    <tr>\n",
       "      <th>17</th>\n",
       "      <td>Tas Kulit Kerja Wanita KK-07</td>\n",
       "      <td>Rp 960.000</td>\n",
       "    </tr>\n",
       "    <tr>\n",
       "      <th>18</th>\n",
       "      <td>Tas Ransel Wanita Kulit Import Asli Warna Pink...</td>\n",
       "      <td>Rp 108.000</td>\n",
       "    </tr>\n",
       "    <tr>\n",
       "      <th>19</th>\n",
       "      <td>Tas Kulit Kerja Metropolis Tas Kerja Kulit Kod...</td>\n",
       "      <td>Rp 123</td>\n",
       "    </tr>\n",
       "    <tr>\n",
       "      <th>20</th>\n",
       "      <td>Variasi Aksesoris Tas Perempuan Model Apel Mer...</td>\n",
       "      <td>N/A</td>\n",
       "    </tr>\n",
       "    <tr>\n",
       "      <th>21</th>\n",
       "      <td>Tas Tangan &amp; Clutch Wanita Kulit Import Asli W...</td>\n",
       "      <td>Rp 118.000</td>\n",
       "    </tr>\n",
       "    <tr>\n",
       "      <th>22</th>\n",
       "      <td>Tas Kulit dan Handbags Espro</td>\n",
       "      <td>Rp 165.000</td>\n",
       "    </tr>\n",
       "    <tr>\n",
       "      <th>23</th>\n",
       "      <td>TAS KERJA LAPTOP KULIT KK-40</td>\n",
       "      <td>Rp 760.000</td>\n",
       "    </tr>\n",
       "    <tr>\n",
       "      <th>24</th>\n",
       "      <td>Tas Ransel Wanita Kulit Import Asli Warna Blue...</td>\n",
       "      <td>Rp 108.000</td>\n",
       "    </tr>\n",
       "    <tr>\n",
       "      <th>25</th>\n",
       "      <td>TAS SELEMPANG KULIT PENERBANG KLASIK KK-15</td>\n",
       "      <td>Rp 560.000</td>\n",
       "    </tr>\n",
       "  </tbody>\n",
       "</table>\n",
       "</div>"
      ],
      "text/plain": [
       "                                             nama_tas       harga\n",
       "0                   TAS DOKUMEN PORTOFOLIO KODE AG-70  Rp 463.000\n",
       "1   Tas Tangan & Clutch Wanita Kulit Import Asli W...  Rp 118.000\n",
       "2                                 Tas Santai Biru Tua         N/A\n",
       "3   Tas Ransel Wanita Kulit Import Asli Warna Whit...  Rp 108.000\n",
       "4                    tas kulit istimewa dengan emboss  Rp 260.000\n",
       "5                TAS SELEMPANG KULIT LEVI KULIT KK-31  Rp 505.000\n",
       "6   Tas Ransel Wanita Kulit Import Asli Warna Blue...  Rp 108.000\n",
       "7   Tas Selempang Kulit Pria MK-01 Two Tone Hitam ...  Rp 635.000\n",
       "8   Tas Ransel Wanita Kulit Import Asli Warna Blac...  Rp 108.000\n",
       "9                      TAS KERJA KULIT SLIMFIT KK-278  Rp 409.900\n",
       "10  Tas Ransel Wanita Kulit Import Asli Warna Red ...  Rp 108.000\n",
       "11        Tas Selempang  Arya Sling Bag Leather-Black  Rp 760.000\n",
       "12  Tas Tangan & Clutch Wanita Kulit Import Asli W...  Rp 118.000\n",
       "13  Tas Dokumen Kulit Imitasi Tas Kerja Kulit Kode...      Rp 123\n",
       "14  Tas Tangan & Clutch Wanita Kulit Import Asli W...  Rp 118.000\n",
       "15  Tas Kerja Kulit Tas Kerja Kantor Kulit Kode MK-03      Rp 123\n",
       "16  Tas Tangan & Clutch Wanita Kulit Import Asli W...  Rp 118.000\n",
       "17                       Tas Kulit Kerja Wanita KK-07  Rp 960.000\n",
       "18  Tas Ransel Wanita Kulit Import Asli Warna Pink...  Rp 108.000\n",
       "19  Tas Kulit Kerja Metropolis Tas Kerja Kulit Kod...      Rp 123\n",
       "20  Variasi Aksesoris Tas Perempuan Model Apel Mer...         N/A\n",
       "21  Tas Tangan & Clutch Wanita Kulit Import Asli W...  Rp 118.000\n",
       "22                       Tas Kulit dan Handbags Espro  Rp 165.000\n",
       "23                       TAS KERJA LAPTOP KULIT KK-40  Rp 760.000\n",
       "24  Tas Ransel Wanita Kulit Import Asli Warna Blue...  Rp 108.000\n",
       "25         TAS SELEMPANG KULIT PENERBANG KLASIK KK-15  Rp 560.000"
      ]
     },
     "execution_count": 140,
     "metadata": {},
     "output_type": "execute_result"
    }
   ],
   "source": [
    "file"
   ]
  },
  {
   "cell_type": "code",
   "execution_count": 142,
   "id": "da8b6af7",
   "metadata": {},
   "outputs": [],
   "source": [
    "file.to_csv('Data Scraping_Rifki_002.csv')"
   ]
  }
 ],
 "metadata": {
  "kernelspec": {
   "display_name": "Python 3 (ipykernel)",
   "language": "python",
   "name": "python3"
  },
  "language_info": {
   "codemirror_mode": {
    "name": "ipython",
    "version": 3
   },
   "file_extension": ".py",
   "mimetype": "text/x-python",
   "name": "python",
   "nbconvert_exporter": "python",
   "pygments_lexer": "ipython3",
   "version": "3.9.12"
  }
 },
 "nbformat": 4,
 "nbformat_minor": 5
}
